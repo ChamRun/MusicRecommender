{
 "cells": [
  {
   "cell_type": "code",
   "execution_count": 3,
   "metadata": {
    "collapsed": true
   },
   "outputs": [],
   "source": [
    "# import joblib\n",
    "from sklearn import tree\n",
    "import pandas\n",
    "from sklearn.tree import DecisionTreeClassifier\n",
    "\n",
    "music_table = pandas.read_csv(\"music.csv\")\n",
    "X = music_table.drop(columns='genre')\n",
    "y = music_table[\"genre\"]\n",
    "\n",
    "# model = joblib.load(\"recommender.joblib\")\n",
    "# how to get y from model?\n",
    "\n",
    "model = DecisionTreeClassifier()\n",
    "model.fit(X, y)\n",
    "\n",
    "tree.export_graphviz(model, out_file=\"recommender.dot\",\n",
    "                     feature_names=[\"age\", \"gender\"],\n",
    "                     class_names=sorted(y.unique()),\n",
    "                     label=\"All\",\n",
    "                     rounded=True,\n",
    "                     filled=True)\n",
    "\n"
   ]
  }
 ],
 "metadata": {
  "kernelspec": {
   "name": "pycharm-ce62fa",
   "language": "python",
   "display_name": "PyCharm (Jupyter)"
  },
  "language_info": {
   "codemirror_mode": {
    "name": "ipython",
    "version": 2
   },
   "file_extension": ".py",
   "mimetype": "text/x-python",
   "name": "python",
   "nbconvert_exporter": "python",
   "pygments_lexer": "ipython2",
   "version": "2.7.6"
  }
 },
 "nbformat": 4,
 "nbformat_minor": 0
}