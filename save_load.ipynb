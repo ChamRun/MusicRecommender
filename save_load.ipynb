{
 "cells": [
  {
   "cell_type": "code",
   "execution_count": 3,
   "metadata": {
    "collapsed": true
   },
   "outputs": [
    {
     "name": "stdout",
     "output_type": "stream",
     "text": [
      "['Jazz']\n"
     ]
    }
   ],
   "source": [
    "import pandas\n",
    "from sklearn.tree import DecisionTreeClassifier\n",
    "import joblib\n",
    "\n",
    "# music_table = pandas.read_csv(\"music.csv\")\n",
    "# X = music_table.drop(columns='genre')\n",
    "# y = music_table[\"genre\"]\n",
    "#\n",
    "# model = DecisionTreeClassifier()\n",
    "# model.fit(X, y)\n",
    "# model = joblib.dump(model, \"recommender.joblib\")\n",
    "\n",
    "model = joblib.load(\"recommender.joblib\")\n",
    "\n",
    "result = model.predict([[29, 1]])\n",
    "print(result)\n"
   ]
  }
 ],
 "metadata": {
  "kernelspec": {
   "name": "pycharm-ce62fa",
   "language": "python",
   "display_name": "PyCharm (Jupyter)"
  },
  "language_info": {
   "codemirror_mode": {
    "name": "ipython",
    "version": 2
   },
   "file_extension": ".py",
   "mimetype": "text/x-python",
   "name": "python",
   "nbconvert_exporter": "python",
   "pygments_lexer": "ipython2",
   "version": "2.7.6"
  }
 },
 "nbformat": 4,
 "nbformat_minor": 0
}